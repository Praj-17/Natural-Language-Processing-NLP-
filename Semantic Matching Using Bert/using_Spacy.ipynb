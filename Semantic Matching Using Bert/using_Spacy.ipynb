{
 "cells": [
  {
   "cell_type": "markdown",
   "metadata": {},
   "source": [
    "# Sematic Labeling Using Bert"
   ]
  },
  {
   "cell_type": "code",
   "execution_count": 2,
   "metadata": {},
   "outputs": [],
   "source": [
    "import spacy"
   ]
  },
  {
   "cell_type": "code",
   "execution_count": 3,
   "metadata": {},
   "outputs": [],
   "source": [
    "nlp = spacy.load('en_core_web_lg')"
   ]
  },
  {
   "cell_type": "markdown",
   "metadata": {},
   "source": [
    "## Samples of Word Similarity"
   ]
  },
  {
   "cell_type": "code",
   "execution_count": 4,
   "metadata": {},
   "outputs": [
    {
     "data": {
      "text/plain": [
       "0.7830263"
      ]
     },
     "execution_count": 4,
     "metadata": {},
     "output_type": "execute_result"
    }
   ],
   "source": [
    "w1 = 'red'\n",
    "w2 = 'pink' #keep only single words\n",
    "\n",
    "w1 = nlp.vocab[w1]\n",
    "w2 = nlp.vocab[w2]\n",
    "\n",
    "w1.similarity(w2)\n"
   ]
  },
  {
   "cell_type": "code",
   "execution_count": 5,
   "metadata": {},
   "outputs": [
    {
     "data": {
      "text/plain": [
       "0.64389884"
      ]
     },
     "execution_count": 5,
     "metadata": {},
     "output_type": "execute_result"
    }
   ],
   "source": [
    "#opposite words can also, be used in same cotenxt for example both sad and happy are emotions and hence have higher similarity\n",
    "#While if you would have considered their correlation rather than similarity it would be -1\n",
    "\n",
    "w1 = 'happy'\n",
    "w2 = 'sad' #keep only single words\n",
    "\n",
    "w1 = nlp.vocab[w1]\n",
    "w2 = nlp.vocab[w2]\n",
    "\n",
    "w1.similarity(w2)"
   ]
  },
  {
   "cell_type": "markdown",
   "metadata": {},
   "source": [
    "Vocab might throw an error when the word does not exit"
   ]
  },
  {
   "cell_type": "code",
   "execution_count": 6,
   "metadata": {},
   "outputs": [
    {
     "name": "stderr",
     "output_type": "stream",
     "text": [
      "C:\\Users\\pwayk\\AppData\\Local\\Temp/ipykernel_5772/2473328211.py:7: UserWarning: [W008] Evaluating Lexeme.similarity based on empty vectors.\n",
      "  w1.similarity(w2)\n"
     ]
    },
    {
     "data": {
      "text/plain": [
       "0.0"
      ]
     },
     "execution_count": 6,
     "metadata": {},
     "output_type": "execute_result"
    }
   ],
   "source": [
    "w1 = 'happanflany'\n",
    "w2 = 'great' #keep only single words\n",
    "\n",
    "w1 = nlp.vocab[w1]\n",
    "w2 = nlp.vocab[w2]\n",
    "\n",
    "w1.similarity(w2)"
   ]
  },
  {
   "cell_type": "markdown",
   "metadata": {},
   "source": [
    "# Similarity between two Sentences"
   ]
  },
  {
   "cell_type": "code",
   "execution_count": 7,
   "metadata": {},
   "outputs": [
    {
     "data": {
      "text/plain": [
       "0.9145759136938949"
      ]
     },
     "execution_count": 7,
     "metadata": {},
     "output_type": "execute_result"
    }
   ],
   "source": [
    "w1 = 'he is very happy'\n",
    "w2 = 'he seems to be sad' \n",
    "w1 = nlp(w1)\n",
    "w2 = nlp(w2)\n",
    "\n",
    "w1.similarity(w2)"
   ]
  },
  {
   "cell_type": "markdown",
   "metadata": {},
   "source": [
    "In sentence classificiation for an unknown reson the similarities come so high "
   ]
  },
  {
   "cell_type": "code",
   "execution_count": 8,
   "metadata": {},
   "outputs": [
    {
     "data": {
      "text/plain": [
       "0.8876528610180653"
      ]
     },
     "execution_count": 8,
     "metadata": {},
     "output_type": "execute_result"
    }
   ],
   "source": [
    "w1 = 'Prajwal eats a Mango.'\n",
    "w2 = 'A Mango is eaten by Prajwal.'\n",
    "w1 = nlp(w1)\n",
    "w2 = nlp(w2)\n",
    "\n",
    "w1.similarity(w2)"
   ]
  },
  {
   "cell_type": "code",
   "execution_count": 9,
   "metadata": {},
   "outputs": [
    {
     "data": {
      "text/plain": [
       "0.6473644346927117"
      ]
     },
     "execution_count": 9,
     "metadata": {},
     "output_type": "execute_result"
    }
   ],
   "source": [
    "w1 = 'Prajwal drinks water.'\n",
    "w2 = 'Sun is far away from Earth.'\n",
    "w1 = nlp(w1)\n",
    "w2 = nlp(w2)\n",
    "\n",
    "w1.similarity(w2)"
   ]
  },
  {
   "cell_type": "markdown",
   "metadata": {},
   "source": [
    "Seems it is not very good at understanding active voice passive voice of same sentences."
   ]
  },
  {
   "cell_type": "code",
   "execution_count": 10,
   "metadata": {},
   "outputs": [
    {
     "data": {
      "text/plain": [
       "0.7974259551234791"
      ]
     },
     "execution_count": 10,
     "metadata": {},
     "output_type": "execute_result"
    }
   ],
   "source": [
    "w1 = 'Prajwal drinks water.'\n",
    "w2 = 'Water is drunk by Prajwal.'\n",
    "w1 = nlp(w1)\n",
    "w2 = nlp(w2)\n",
    "\n",
    "w1.similarity(w2)"
   ]
  },
  {
   "cell_type": "markdown",
   "metadata": {},
   "source": [
    "Although removing stopwords makes a positive difference"
   ]
  },
  {
   "cell_type": "code",
   "execution_count": 11,
   "metadata": {},
   "outputs": [
    {
     "data": {
      "text/plain": [
       "0.8769813923617534"
      ]
     },
     "execution_count": 11,
     "metadata": {},
     "output_type": "execute_result"
    }
   ],
   "source": [
    "w1 = 'Prajwal drinks water.'\n",
    "w2 = 'Water drunk Prajwal.'\n",
    "w1 = nlp(w1)\n",
    "w2 = nlp(w2)\n",
    "\n",
    "w1.similarity(w2)"
   ]
  },
  {
   "cell_type": "code",
   "execution_count": 12,
   "metadata": {},
   "outputs": [
    {
     "data": {
      "text/plain": [
       "0.8051269459729133"
      ]
     },
     "execution_count": 12,
     "metadata": {},
     "output_type": "execute_result"
    }
   ],
   "source": [
    "w1 = 'Soldiers are the real heros.'\n",
    "w2 = 'They protect us from enemies.'\n",
    "w1 = nlp(w1)\n",
    "w2 = nlp(w2)\n",
    "\n",
    "w1.similarity(w2)"
   ]
  },
  {
   "cell_type": "code",
   "execution_count": 13,
   "metadata": {},
   "outputs": [
    {
     "data": {
      "text/plain": [
       "0.9102227463506173"
      ]
     },
     "execution_count": 13,
     "metadata": {},
     "output_type": "execute_result"
    }
   ],
   "source": [
    "w1 = 'Soldiers are the real heros. They protect us from enemies. Hence, we respect them. '\n",
    "w2 = 'Bollywood is the worst place for fining idols and seeking entertainment. It seems more of a showoff world than actualism. They are not heros they are actors.'\n",
    "w1 = nlp(w1)\n",
    "w2 = nlp(w2)\n",
    "\n",
    "w1.similarity(w2)"
   ]
  },
  {
   "cell_type": "code",
   "execution_count": 20,
   "metadata": {},
   "outputs": [
    {
     "data": {
      "text/plain": [
       "0.5510257117829732"
      ]
     },
     "execution_count": 20,
     "metadata": {},
     "output_type": "execute_result"
    }
   ],
   "source": [
    "w1 = 'Prajwal plays piano in a room'\n",
    "w2 = 'Prajwal plays cricket'\n",
    "w1 = nlp(w1)\n",
    "w2 = nlp(w2)\n",
    "\n",
    "w1.similarity(w2)"
   ]
  },
  {
   "cell_type": "code",
   "execution_count": 22,
   "metadata": {},
   "outputs": [
    {
     "data": {
      "text/plain": [
       "0.9059835037962362"
      ]
     },
     "execution_count": 22,
     "metadata": {},
     "output_type": "execute_result"
    }
   ],
   "source": [
    "w1 = 'Prajwal plays piano in a room.'\n",
    "w2 = 'Prajwal plays cricket in a room.'\n",
    "w1 = nlp(w1)\n",
    "w2 = nlp(w2)\n",
    "\n",
    "w1.similarity(w2)"
   ]
  },
  {
   "cell_type": "markdown",
   "metadata": {},
   "source": [
    "# Conclusions of using Spacy"
   ]
  },
  {
   "cell_type": "markdown",
   "metadata": {},
   "source": [
    "1. It uses word to word matching and hence is more prone towards giving us False Negatives (they are not similar yet giving similar). \n",
    "2. Deciding a threshold for classificiation would be a tedious task. However\n",
    "3. Can be used for simple purposes yet defficult for domain specific activites.\n",
    "4. seemed to be more focusd towards understanding of each word rather than considering them as a whole.\n",
    "5. Seems perfect for single word similarity but I would not risk doing sentence classificiation with them."
   ]
  }
 ],
 "metadata": {
  "kernelspec": {
   "display_name": "Python 3.9.7 64-bit",
   "language": "python",
   "name": "python3"
  },
  "language_info": {
   "codemirror_mode": {
    "name": "ipython",
    "version": 3
   },
   "file_extension": ".py",
   "mimetype": "text/x-python",
   "name": "python",
   "nbconvert_exporter": "python",
   "pygments_lexer": "ipython3",
   "version": "3.9.7"
  },
  "orig_nbformat": 4,
  "vscode": {
   "interpreter": {
    "hash": "941096ab4a304f3509822dba92ee1d36e30c4bf17f0e34fdfd12300d4a2ccfca"
   }
  }
 },
 "nbformat": 4,
 "nbformat_minor": 2
}
